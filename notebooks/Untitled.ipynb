{
 "cells": [
  {
   "cell_type": "code",
   "execution_count": 22,
   "id": "7a4065e9-0857-41b1-9d2e-04c4b6515e90",
   "metadata": {},
   "outputs": [],
   "source": [
    "import pandas as pd\n",
    "import numpy as np\n",
    "from sklearn.preprocessing import MinMaxScaler\n",
    "from sklearn.model_selection import train_test_split\n",
    "from tensorflow.keras.models import Sequential\n",
    "from tensorflow.keras.layers import LSTM, Dense, Dropout, Input\n",
    "from tensorflow.keras.callbacks import EarlyStopping, ModelCheckpoint\n",
    "from tensorflow.keras.optimizers import Adam\n",
    "from math import radians, cos, sin, asin, sqrt"
   ]
  },
  {
   "cell_type": "code",
   "execution_count": 4,
   "id": "91a5f240-1bfa-4694-a2e3-733ec7d78a32",
   "metadata": {},
   "outputs": [],
   "source": [
    "vehicle_2_df = pd.read_csv('vehicle_2_TimeLoc_Dataframe.csv')"
   ]
  },
  {
   "cell_type": "code",
   "execution_count": 6,
   "id": "d753e459-9077-462f-a313-78b35b6923d2",
   "metadata": {},
   "outputs": [],
   "source": [
    "vehicle_2_df = vehicle_2_df.sort_values('idle_start_time_mdt').reset_index(drop=True)"
   ]
  },
  {
   "cell_type": "code",
   "execution_count": 11,
   "id": "91770757-667b-40d3-963a-bc5dfbd33a3e",
   "metadata": {},
   "outputs": [],
   "source": [
    "vehicle_2_df = vehicle_2_df.copy()\n",
    "\n",
    "# Convert \n",
    "vehicle_2_df['idle_start_time_mdt'] = pd.to_datetime(vehicle_2_df['idle_start_time_mdt'], format='mixed')\n",
    "vehicle_2_df['idle_end_time_mdt'] = pd.to_datetime(vehicle_2_df['idle_end_time_mdt'], format='mixed')\n",
    "\n",
    "# Encode cyclical start time features\n",
    "vehicle_2_df['start_hour'] = vehicle_2_df['idle_start_time_mdt'].dt.hour + vehicle_2_df['idle_start_time_mdt'].dt.minute / 60\n",
    "vehicle_2_df['start_hour_sin'] = np.sin(2 * np.pi * vehicle_2_df['start_hour'] / 24)\n",
    "vehicle_2_df['start_hour_cos'] = np.cos(2 * np.pi * vehicle_2_df['start_hour'] / 24)\n",
    "\n",
    "# Encode cyclical end time features\n",
    "vehicle_2_df['end_hour'] = vehicle_2_df['idle_end_time_mdt'].dt.hour + vehicle_2_df['idle_end_time_mdt'].dt.minute / 60\n",
    "vehicle_2_df['end_hour_sin'] = np.sin(2 * np.pi * vehicle_2_df['end_hour'] / 24)\n",
    "vehicle_2_df['end_hour_cos'] = np.cos(2 * np.pi * vehicle_2_df['end_hour'] / 24)\n",
    "\n",
    "# Calculate duration\n",
    "vehicle_2_df['idle_duration_minutes'] = (vehicle_2_df['idle_end_time_mdt'] - vehicle_2_df['idle_start_time_mdt']).dt.total_seconds() / 60.0\n",
    "\n",
    "# Final feature set\n",
    "feature_cols = ['start_hour_sin', 'start_hour_cos', 'end_hour_sin', 'end_hour_cos', 'idle_duration_minutes']\n",
    "target_cols = ['lat', 'lon']"
   ]
  },
  {
   "cell_type": "code",
   "execution_count": 24,
   "id": "f5ed1679-1d81-4f4e-bd09-6526c622fe41",
   "metadata": {},
   "outputs": [
    {
     "ename": "NameError",
     "evalue": "name 'scaler' is not defined",
     "output_type": "error",
     "traceback": [
      "\u001b[1;31m---------------------------------------------------------------------------\u001b[0m",
      "\u001b[1;31mNameError\u001b[0m                                 Traceback (most recent call last)",
      "Cell \u001b[1;32mIn[24], line 5\u001b[0m\n\u001b[0;32m      2\u001b[0m feature_scaler \u001b[38;5;241m=\u001b[39m MinMaxScaler()\n\u001b[0;32m      3\u001b[0m target_scaler \u001b[38;5;241m=\u001b[39m MinMaxScaler()\n\u001b[1;32m----> 5\u001b[0m vehicle_2_scaled \u001b[38;5;241m=\u001b[39m scaler\u001b[38;5;241m.\u001b[39mtransform(vehicle_2[[\u001b[38;5;124m'\u001b[39m\u001b[38;5;124mlat\u001b[39m\u001b[38;5;124m'\u001b[39m, \u001b[38;5;124m'\u001b[39m\u001b[38;5;124mlon\u001b[39m\u001b[38;5;124m'\u001b[39m, \u001b[38;5;124m'\u001b[39m\u001b[38;5;124midle_start_time_mdt\u001b[39m\u001b[38;5;124m'\u001b[39m, \u001b[38;5;124m'\u001b[39m\u001b[38;5;124midle_end_time_mdt\u001b[39m\u001b[38;5;124m'\u001b[39m]])\n\u001b[0;32m      6\u001b[0m X_vehicle2, y_vehicle2 \u001b[38;5;241m=\u001b[39m create_lstm_sequences(vehicle_2_scaled, sequence_length\u001b[38;5;241m=\u001b[39m\u001b[38;5;241m30\u001b[39m)\n",
      "\u001b[1;31mNameError\u001b[0m: name 'scaler' is not defined"
     ]
    }
   ],
   "source": [
    "# Separate scalers for input features and target\n",
    "feature_scaler = MinMaxScaler()\n",
    "target_scaler = MinMaxScaler()\n",
    "\n",
    "vehicle_2_scaled = scaler.transform(vehicle_2[['lat', 'lon', 'idle_start_time_mdt', 'idle_end_time_mdt']])\n",
    "X_vehicle2, y_vehicle2 = create_lstm_sequences(vehicle_2_scaled, sequence_length=30)"
   ]
  },
  {
   "cell_type": "code",
   "execution_count": null,
   "id": "352a4cd9-76d4-4510-ae6d-3e179f5b381e",
   "metadata": {},
   "outputs": [],
   "source": []
  }
 ],
 "metadata": {
  "kernelspec": {
   "display_name": "Python [conda env:base] *",
   "language": "python",
   "name": "conda-base-py"
  },
  "language_info": {
   "codemirror_mode": {
    "name": "ipython",
    "version": 3
   },
   "file_extension": ".py",
   "mimetype": "text/x-python",
   "name": "python",
   "nbconvert_exporter": "python",
   "pygments_lexer": "ipython3",
   "version": "3.12.3"
  }
 },
 "nbformat": 4,
 "nbformat_minor": 5
}
