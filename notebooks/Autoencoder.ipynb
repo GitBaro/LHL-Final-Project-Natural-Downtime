{
 "cells": [
  {
   "cell_type": "code",
   "execution_count": 1,
   "id": "c4ba95ef-c675-4edf-9c69-ed69a779d566",
   "metadata": {},
   "outputs": [],
   "source": [
    "import pandas as pd\n",
    "import numpy as np\n",
    "import seaborn as sns\n",
    "from sklearn.preprocessing import StandardScaler\n",
    "from sklearn.model_selection import train_test_split\n",
    "import tensorflow as tf\n",
    "from tensorflow.keras import layers, models\n",
    "import matplotlib.pyplot as plt"
   ]
  },
  {
   "cell_type": "code",
   "execution_count": 2,
   "id": "c87cb0a1-5b1f-433c-8242-4a6a25163529",
   "metadata": {},
   "outputs": [],
   "source": [
    "df = pd.read_csv('NDT_dataset_clean_2.csv', index_col=0)"
   ]
  },
  {
   "cell_type": "code",
   "execution_count": 3,
   "id": "2eaff9ca-e471-4cbd-ada9-a51f6978c213",
   "metadata": {},
   "outputs": [],
   "source": [
    "df['timestamp'] = pd.to_datetime(df['idle_start_time_mdt'], format='mixed')\n",
    "df['idle_start_hour'] = df['timestamp'].dt.hour"
   ]
  },
  {
   "cell_type": "code",
   "execution_count": 4,
   "id": "148dfe8a-cacb-44f0-a7fa-91909743b657",
   "metadata": {},
   "outputs": [],
   "source": [
    "# Select features\n",
    "features = df[['idle_location_x', 'idle_location_y', 'idle_start_hour', 'idle_duration_hr']]"
   ]
  },
  {
   "cell_type": "code",
   "execution_count": 5,
   "id": "f5fdf165-616a-400e-8fde-755ea3d78a34",
   "metadata": {},
   "outputs": [],
   "source": [
    "# Scale features\n",
    "scaler = StandardScaler()\n",
    "X_scaled = scaler.fit_transform(features)"
   ]
  },
  {
   "cell_type": "code",
   "execution_count": 6,
   "id": "d93d13f0-4d59-4540-b860-9575c20cded2",
   "metadata": {},
   "outputs": [],
   "source": [
    "# Split data\n",
    "X_train, X_test = train_test_split(X_scaled, test_size=0.2, random_state=42)"
   ]
  },
  {
   "cell_type": "code",
   "execution_count": 7,
   "id": "25783ed4-32b8-406a-9ed4-cab23da813d1",
   "metadata": {},
   "outputs": [],
   "source": [
    "input_dim = X_train.shape[1]\n",
    "\n",
    "autoencoder = models.Sequential([\n",
    "    layers.Input(shape=(input_dim,)),\n",
    "    layers.Dense(8, activation='relu'),\n",
    "    layers.Dense(4, activation='relu'),\n",
    "    layers.Dense(8, activation='relu'),\n",
    "    layers.Dense(input_dim, activation='linear')\n",
    "])\n",
    "\n",
    "autoencoder.compile(optimizer='adam', loss='mse')\n",
    "\n",
    "history = autoencoder.fit(\n",
    "    X_train, X_train,\n",
    "    epochs=100,\n",
    "    batch_size=32,\n",
    "    validation_data=(X_test, X_test),\n",
    "    verbose=0\n",
    ")"
   ]
  },
  {
   "cell_type": "code",
   "execution_count": 8,
   "id": "ca8ca57e-ba11-4081-9ecf-ae924e56ddd8",
   "metadata": {},
   "outputs": [
    {
     "name": "stdout",
     "output_type": "stream",
     "text": [
      "\u001b[1m10/10\u001b[0m \u001b[32m━━━━━━━━━━━━━━━━━━━━\u001b[0m\u001b[37m\u001b[0m \u001b[1m0s\u001b[0m 9ms/step\n"
     ]
    },
    {
     "name": "stderr",
     "output_type": "stream",
     "text": [
      "C:\\Users\\omoni\\AppData\\Local\\Temp\\ipykernel_35836\\2190797830.py:6: SettingWithCopyWarning: \n",
      "A value is trying to be set on a copy of a slice from a DataFrame.\n",
      "Try using .loc[row_indexer,col_indexer] = value instead\n",
      "\n",
      "See the caveats in the documentation: https://pandas.pydata.org/pandas-docs/stable/user_guide/indexing.html#returning-a-view-versus-a-copy\n",
      "  features['reconstruction_error'] = reconstruction_error\n",
      "C:\\Users\\omoni\\AppData\\Local\\Temp\\ipykernel_35836\\2190797830.py:10: SettingWithCopyWarning: \n",
      "A value is trying to be set on a copy of a slice from a DataFrame.\n",
      "Try using .loc[row_indexer,col_indexer] = value instead\n",
      "\n",
      "See the caveats in the documentation: https://pandas.pydata.org/pandas-docs/stable/user_guide/indexing.html#returning-a-view-versus-a-copy\n",
      "  features['is_natural_downtime'] = features['reconstruction_error'] > threshold\n"
     ]
    }
   ],
   "source": [
    "# Predict on full data\n",
    "reconstructions = autoencoder.predict(X_scaled)\n",
    "reconstruction_error = np.mean((X_scaled - reconstructions) ** 2, axis=1)\n",
    "\n",
    "# Add error to DataFrame\n",
    "features['reconstruction_error'] = reconstruction_error\n",
    "\n",
    "# Set threshold (e.g., top 10% most unusual)\n",
    "threshold = np.percentile(reconstruction_error, 90)\n",
    "features['is_natural_downtime'] = features['reconstruction_error'] > threshold"
   ]
  },
  {
   "cell_type": "code",
   "execution_count": 9,
   "id": "10685c16-5a22-4899-8942-c2dc41368352",
   "metadata": {},
   "outputs": [
    {
     "name": "stdout",
     "output_type": "stream",
     "text": [
      "     idle_location_x  idle_location_y  idle_start_hour  idle_duration_hr  \\\n",
      "85       -1141283033        509446300               18         86.016667   \n",
      "23       -1141282166        509446499               18         63.108608   \n",
      "146      -1141283216        509446350               15         41.240836   \n",
      "219      -1141283633        509446733               13         31.699722   \n",
      "291      -1141282733        509446800               19         42.687500   \n",
      "\n",
      "     reconstruction_error  is_natural_downtime  \n",
      "85               7.505602                 True  \n",
      "23               3.244953                 True  \n",
      "146              1.462765                 True  \n",
      "219              1.091291                 True  \n",
      "291              1.061731                 True  \n"
     ]
    },
    {
     "data": {
      "image/png": "[encoded data removed]",
      "text/plain": [
       "<Figure size 640x480 with 1 Axes>"
      ]
     },
     "metadata": {},
     "output_type": "display_data"
    }
   ],
   "source": [
    "print(features.sort_values('reconstruction_error', ascending=False).head())\n",
    "\n",
    "plt.hist(features['reconstruction_error'], bins=50)\n",
    "plt.axvline(threshold, color='red', linestyle='--', label='Downtime threshold')\n",
    "plt.title('Reconstruction Error Distribution')\n",
    "plt.xlabel('Error')\n",
    "plt.ylabel('Frequency')\n",
    "plt.legend()\n",
    "plt.show()"
   ]
  },
  {
   "cell_type": "code",
   "execution_count": 10,
   "id": "0a9d773c-abd6-4d22-bf61-16be24feaf86",
   "metadata": {},
   "outputs": [
    {
     "name": "stderr",
     "output_type": "stream",
     "text": [
      "C:\\Users\\omoni\\anaconda3\\Lib\\site-packages\\sklearn\\cluster\\_kmeans.py:1419: UserWarning: KMeans is known to have a memory leak on Windows with MKL, when there are less chunks than available threads. You can avoid it by setting the environment variable OMP_NUM_THREADS=2.\n",
      "  warnings.warn(\n",
      "C:\\Users\\omoni\\AppData\\Local\\Temp\\ipykernel_35836\\4227181759.py:12: SettingWithCopyWarning: \n",
      "A value is trying to be set on a copy of a slice from a DataFrame.\n",
      "Try using .loc[row_indexer,col_indexer] = value instead\n",
      "\n",
      "See the caveats in the documentation: https://pandas.pydata.org/pandas-docs/stable/user_guide/indexing.html#returning-a-view-versus-a-copy\n",
      "  features['cluster'] = kmeans.fit_predict(location_scaled)\n"
     ]
    }
   ],
   "source": [
    "from sklearn.cluster import KMeans\n",
    "\n",
    "# Use just location features for clustering\n",
    "location_features = features[['idle_location_x', 'idle_location_y']]\n",
    "\n",
    "# Optional: scale coordinates for clustering (or skip if already uniform)\n",
    "scaler = StandardScaler()\n",
    "location_scaled = scaler.fit_transform(location_features)\n",
    "\n",
    "# Choose number of clusters (can be tuned with elbow method)\n",
    "kmeans = KMeans(n_clusters=5, random_state=42)\n",
    "features['cluster'] = kmeans.fit_predict(location_scaled)\n",
    "\n",
    "# Get cluster centers in original coordinates (unscaled)\n",
    "cluster_centers = scaler.inverse_transform(kmeans.cluster_centers_)"
   ]
  },
  {
   "cell_type": "code",
   "execution_count": 11,
   "id": "1084324f-5653-4eec-9dc0-b67688df99e9",
   "metadata": {},
   "outputs": [
    {
     "name": "stderr",
     "output_type": "stream",
     "text": [
      "C:\\Users\\omoni\\AppData\\Local\\Temp\\ipykernel_35836\\2244057031.py:7: SettingWithCopyWarning: \n",
      "A value is trying to be set on a copy of a slice from a DataFrame.\n",
      "Try using .loc[row_indexer,col_indexer] = value instead\n",
      "\n",
      "See the caveats in the documentation: https://pandas.pydata.org/pandas-docs/stable/user_guide/indexing.html#returning-a-view-versus-a-copy\n",
      "  features['lon'], features['lat'] = transformer.transform(features['idle_location_x'].values, features['idle_location_y'].values)\n",
      "C:\\Users\\omoni\\AppData\\Local\\Temp\\ipykernel_35836\\2244057031.py:7: SettingWithCopyWarning: \n",
      "A value is trying to be set on a copy of a slice from a DataFrame.\n",
      "Try using .loc[row_indexer,col_indexer] = value instead\n",
      "\n",
      "See the caveats in the documentation: https://pandas.pydata.org/pandas-docs/stable/user_guide/indexing.html#returning-a-view-versus-a-copy\n",
      "  features['lon'], features['lat'] = transformer.transform(features['idle_location_x'].values, features['idle_location_y'].values)\n"
     ]
    }
   ],
   "source": [
    "from pyproj import Transformer\n",
    "\n",
    "# Adjust this if you know your specific projection\n",
    "transformer = Transformer.from_crs(\"epsg:3857\", \"epsg:4326\", always_xy=True)\n",
    "\n",
    "# Convert idle points\n",
    "features['lon'], features['lat'] = transformer.transform(features['idle_location_x'].values, features['idle_location_y'].values)\n",
    "\n",
    "# Convert cluster centers\n",
    "cluster_lons, cluster_lats = transformer.transform(\n",
    "    cluster_centers[:, 0], cluster_centers[:, 1]\n",
    ")\n"
   ]
  },
  {
   "cell_type": "code",
   "execution_count": 13,
   "id": "bceeefd7-61a2-4e74-a09f-6f6282002c63",
   "metadata": {},
   "outputs": [],
   "source": [
    "import folium\n",
    "\n",
    "# Center map on mean of lat/lon\n",
    "map_center = [features['lat'].mean(), features['lon'].mean()]\n",
    "m = folium.Map(location=map_center, zoom_start=12)\n",
    "\n",
    "# Add idle points colored by cluster\n",
    "colors = ['red', 'blue', 'green', 'purple', 'orange']\n",
    "\n",
    "for i, row in features.iterrows():\n",
    "    folium.CircleMarker(\n",
    "        location=[row['lat'], row['lon']],\n",
    "        radius=3,\n",
    "        color=colors[row['cluster'] % len(colors)],\n",
    "        fill=True,\n",
    "        fill_opacity=0.6\n",
    "    ).add_to(m)\n",
    "\n",
    "# Add cluster center markers\n",
    "for lat, lon in zip(cluster_lats, cluster_lons):\n",
    "    folium.Marker(\n",
    "        location=[lat, lon],\n",
    "        icon=folium.Icon(color='black', icon='star'),\n",
    "        popup='Cluster Center'\n",
    "    ).add_to(m)\n",
    "\n",
    "m.save('idle_hotspot_map.html')"
   ]
  },
  {
   "cell_type": "code",
   "execution_count": 15,
   "id": "be2186f1-883c-4365-ad00-a474a62dc469",
   "metadata": {},
   "outputs": [
    {
     "data": {
      "text/plain": [
       "<function matplotlib.pyplot.show(close=None, block=None)>"
      ]
     },
     "execution_count": 15,
     "metadata": {},
     "output_type": "execute_result"
    },
    {
     "data": {
      "image/png": "[encoded data removed]",
      "text/plain": [
       "<Figure size 1200x600 with 1 Axes>"
      ]
     },
     "metadata": {},
     "output_type": "display_data"
    }
   ],
   "source": [
    "plt.figure(figsize=(12, 6))\n",
    "sns.scatterplot(data=features, \n",
    "                x = 'idle_start_hour',\n",
    "                y = 'idle_duration_hr',\n",
    "                hue = 'cluster',\n",
    "                palette = 'tab10')\n",
    "plt.title('Downtime Clusters by Hour and Duration (DBSCAN)')\n",
    "plt.xlabel('Hour of Day (When Downtime Starts)')\n",
    "plt.ylabel('Downtime Duration (Hours)')\n",
    "plt.grid(True)\n",
    "plt.tight_layout()\n",
    "plt.show"
   ]
  },
  {
   "cell_type": "code",
   "execution_count": 21,
   "id": "15e769de-3f9c-4fd9-9e39-2f259c81ba9c",
   "metadata": {},
   "outputs": [],
   "source": [
    "# Make sure you have these columns\n",
    "coords = features[['lat', 'lon']].to_numpy()"
   ]
  },
  {
   "cell_type": "code",
   "execution_count": 23,
   "id": "81e2a2fa-7137-4786-8273-feeae4e9724d",
   "metadata": {},
   "outputs": [
    {
     "name": "stderr",
     "output_type": "stream",
     "text": [
      "C:\\Users\\omoni\\AppData\\Local\\Temp\\ipykernel_35836\\1987646759.py:12: SettingWithCopyWarning: \n",
      "A value is trying to be set on a copy of a slice from a DataFrame.\n",
      "Try using .loc[row_indexer,col_indexer] = value instead\n",
      "\n",
      "See the caveats in the documentation: https://pandas.pydata.org/pandas-docs/stable/user_guide/indexing.html#returning-a-view-versus-a-copy\n",
      "  features['dbscan_cluster'] = db.labels_\n"
     ]
    }
   ],
   "source": [
    "from sklearn.cluster import DBSCAN\n",
    "import numpy as np\n",
    "\n",
    "# Convert degrees to radians for haversine\n",
    "coords_rad = np.radians(coords)\n",
    "\n",
    "# DBSCAN using haversine distance\n",
    "kms_per_radian = 6371.0088  # Earth's radius\n",
    "epsilon = 0.5 / kms_per_radian  # 0.5 km neighborhood\n",
    "\n",
    "db = DBSCAN(eps=epsilon, min_samples=5, metric='haversine').fit(coords_rad)\n",
    "features['dbscan_cluster'] = db.labels_\n"
   ]
  },
  {
   "cell_type": "code",
   "execution_count": 25,
   "id": "7bd497e1-e9d1-463a-b0d9-d4d75ff7ca0b",
   "metadata": {},
   "outputs": [
    {
     "name": "stdout",
     "output_type": "stream",
     "text": [
      "dbscan_cluster\n",
      "0    318\n",
      "Name: count, dtype: int64\n"
     ]
    }
   ],
   "source": [
    "print(features['dbscan_cluster'].value_counts())\n",
    "# -1 means \"noise\" — points that don’t belong to any cluster\n"
   ]
  },
  {
   "cell_type": "code",
   "execution_count": 36,
   "id": "eb0ed128-df95-47d9-b743-08864621826b",
   "metadata": {},
   "outputs": [
    {
     "name": "stderr",
     "output_type": "stream",
     "text": [
      "C:\\Users\\omoni\\AppData\\Local\\Temp\\ipykernel_35836\\849308430.py:1: SettingWithCopyWarning: \n",
      "A value is trying to be set on a copy of a slice from a DataFrame.\n",
      "Try using .loc[row_indexer,col_indexer] = value instead\n",
      "\n",
      "See the caveats in the documentation: https://pandas.pydata.org/pandas-docs/stable/user_guide/indexing.html#returning-a-view-versus-a-copy\n",
      "  features['lat'] = features['idle_location_y'] / 1e7\n",
      "C:\\Users\\omoni\\AppData\\Local\\Temp\\ipykernel_35836\\849308430.py:2: SettingWithCopyWarning: \n",
      "A value is trying to be set on a copy of a slice from a DataFrame.\n",
      "Try using .loc[row_indexer,col_indexer] = value instead\n",
      "\n",
      "See the caveats in the documentation: https://pandas.pydata.org/pandas-docs/stable/user_guide/indexing.html#returning-a-view-versus-a-copy\n",
      "  features['lon'] = features['idle_location_x'] / 1e7\n"
     ]
    }
   ],
   "source": [
    "features['lat'] = features['idle_location_y'] / 1e7\n",
    "features['lon'] = features['idle_location_x'] / 1e7"
   ]
  },
  {
   "cell_type": "code",
   "execution_count": 38,
   "id": "160e00ab-377f-4717-9cda-e9965ddac549",
   "metadata": {},
   "outputs": [],
   "source": [
    "import folium\n",
    "\n",
    "# Color palette for clusters\n",
    "cluster_colors = ['red', 'blue', 'green', 'purple', 'orange', 'darkred', 'cadetblue']\n",
    "noise_color = 'gray'\n",
    "\n",
    "# Map centered on average location\n",
    "m = folium.Map(location=[features['lat'].mean(), features['lon'].mean()], zoom_start=12)\n",
    "\n",
    "for i, row in features.iterrows():\n",
    "    color = noise_color if row['dbscan_cluster'] == -1 else cluster_colors[row['dbscan_cluster'] % len(cluster_colors)]\n",
    "    folium.CircleMarker(\n",
    "        location=[row['lat'], row['lon']],\n",
    "        radius=3,\n",
    "        color=color,\n",
    "        fill=True,\n",
    "        fill_opacity=0.7,\n",
    "    ).add_to(m)\n",
    "\n",
    "m.save(\"dbscan_idle_hotspots.html\")"
   ]
  },
  {
   "cell_type": "code",
   "execution_count": null,
   "id": "38183cd4-97f8-408c-9277-cfb79304695a",
   "metadata": {},
   "outputs": [],
   "source": []
  },
  {
   "cell_type": "code",
   "execution_count": null,
   "id": "6dbe8846-b046-4a40-80c2-0545d345c25c",
   "metadata": {},
   "outputs": [],
   "source": []
  }
 ],
 "metadata": {
  "kernelspec": {
   "display_name": "Python [conda env:base] *",
   "language": "python",
   "name": "conda-base-py"
  },
  "language_info": {
   "codemirror_mode": {
    "name": "ipython",
    "version": 3
   },
   "file_extension": ".py",
   "mimetype": "text/x-python",
   "name": "python",
   "nbconvert_exporter": "python",
   "pygments_lexer": "ipython3",
   "version": "3.12.3"
  }
 },
 "nbformat": 4,
 "nbformat_minor": 5
}
